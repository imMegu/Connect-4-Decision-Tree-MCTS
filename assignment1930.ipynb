{
 "cells": [
  {
   "cell_type": "markdown",
   "id": "0ab68d30",
   "metadata": {},
   "source": [
    "# **AI Assignment: Connect 4 with MCTS and ID3**"
   ]
  },
  {
   "cell_type": "markdown",
   "id": "64607dab",
   "metadata": {},
   "source": [
    "### Assignment Done by:\n",
    "- David Ventura Mendes de Sá (UP202303580)\n",
    "- Samuel José Sousa Ventura da Silva (UP202305647)"
   ]
  },
  {
   "cell_type": "markdown",
   "id": "0579ad64",
   "metadata": {},
   "source": [
    "## 0. Contents\n",
    "1. Introduction\n",
    "\n",
    "2. Connect Four  \n",
    "    **2.1.** Game Implementation  \n",
    "    **2.2.** Bitboard vs Matrix  \n",
    "\n",
    "3. Algorithms    \n",
    "    **3.1.** Monte Carlo Tree Search (MCTS)   \n",
    "    **3.2.** Decision Trees (ID3)     \n",
    "        **3.2.1.** Dataset Generation  \n",
    "\n",
    "      \n",
    "\n",
    "4. Algorithms Implementation  \n",
    "    **4.1.** Libraries   \n",
    "\n",
    "\n",
    "4. UI Game\n",
    "\n",
    "6. Results\n",
    "7. Conclusion\n",
    "\n",
    "8. References\n",
    "\n",
    "   "
   ]
  },
  {
   "cell_type": "markdown",
   "id": "74022748",
   "metadata": {},
   "source": [
    "## **1. Introduction** ##"
   ]
  },
  {
   "cell_type": "markdown",
   "id": "2a155e1f",
   "metadata": {},
   "source": [
    "## **2. Connect Four** ##"
   ]
  },
  {
   "cell_type": "markdown",
   "id": "38d93171",
   "metadata": {},
   "source": [
    "Connect Four is a two-player game where players take turns dropping discs into a 7x6 grid, aiming to be the first to connect four of their own discs in a row-horizontally, vertically, or diagonally. If the board fills up without a winner, the game is a draw."
   ]
  },
  {
   "cell_type": "markdown",
   "id": "bf998d00",
   "metadata": {},
   "source": [
    "### **2.1. Game Implementation** ###"
   ]
  },
  {
   "cell_type": "markdown",
   "id": "ed0adc4c",
   "metadata": {},
   "source": [
    "The Bitboard class provides an efficient, compact, and fast representation for the state of a Connect Four game. Instead of using a traditional 2D array, it uses bitboards-integers where each bit represents a cell on the board-to store the positions of each player's pieces. This approach enables rapid move generation, win detection, and easy state copying, which is particularly useful for AI algorithms such as Monte Carlo Tree Search."
   ]
  },
  {
   "cell_type": "markdown",
   "id": "143f54e1",
   "metadata": {},
   "source": [
    "Board Encoding:\n",
    "- The Connect Four board is 7 columns by 6 rows (7x6 = 42 cells).\n",
    "- Each player’s pieces are stored in a separate 64-bit integer (player1, player2), where each bit corresponds to a cell.\n",
    "- The mapping from board coordinates to bit positions is column-major:\n",
    "bit_position = col * 7 + row\n",
    "- The height array keeps track of how many pieces are in each column, allowing for efficient move generation.\n"
   ]
  },
  {
   "cell_type": "markdown",
   "id": "62c3009c",
   "metadata": {},
   "source": [
    "#### **Principal methods:** ####\n",
    "\n",
    "- `make_move(col)`\n",
    "    - **Purpose:** Places a piece for the current player in the specified column.\n",
    "    - **How it works:**\n",
    "        - Checks if the column is full.\n",
    "        - Updates the bitboard for the current player using a bitwise OR operation.\n",
    "        - Increments the column height.\n",
    "        - Switches the turn to the other player.\n",
    "\n",
    "- `check_player_win(player)`\n",
    "    - **Purpose:** Checks if the player has achieved four in a row (win condition).\n",
    "    - **How it works:**\n",
    "        - Uses bitwise operations to efficiently check for four consecutive pieces in all directions (vertical, horizontal, and both diagonals).\n",
    "        - For example, a horizontal win is detected by checking if there are three consecutive bits to the right of a piece using bit shifts and AND operations.\n",
    "    \n",
    "- `get_legal_moves()`\n",
    "    - **Purpose:** Returns a list of columns where a move is possible (i.e., not full).\n",
    "    - **How it works:**\n",
    "        - Checks the height array for columns with less than 6 pieces.\n",
    "\n",
    "- `is_over()`\n",
    "    - **Purpose:** Determines if the game has ended, either by a win or a draw.\n",
    "    - **How it works:**\n",
    "        - Calls check_player_win for both players and checks if all columns are full.\n",
    "\n",
    "- `matrix()`\n",
    "    - **Purpose:** Converts the internal bitboard representation to a 2D matrix for visualization or further processing.\n",
    "    - **How it works:**\n",
    "        - Iterates through all possible bit positions and assigns values to the matrix based on which player's bitboard contains the bit.\n",
    "\n",
    "- `__str__()`\n",
    "    - **Purpose:** Provides a human-readable string representation of the board, useful for debugging and visualization.\n",
    "\n",
    "**Why did we use bitboards?**  \n",
    "    - **Speed:** In terms of speed bitwise operations are much faster than iterating over arrays.  \n",
    "    - **Memory Efficiency:** The entire board state fits in two integers.  \n",
    "    - **Convenience:** Copying and comparing board states is trivial.  \n",
    "\n",
    "\n",
    "\n"
   ]
  },
  {
   "cell_type": "code",
   "execution_count": 2,
   "id": "f8f4e915",
   "metadata": {},
   "outputs": [],
   "source": [
    "class Bitboard:\n",
    "    def __init__(self):\n",
    "        self.player1 = 0\n",
    "        self.player2 = 0\n",
    "        self.height = [0] * 7\n",
    "        self.current_player = 1\n",
    "\n",
    "    # 05 12 19 26 33 40 47\n",
    "    # 04 11 18 25 32 39 46\n",
    "    # 03 10 17 24 31 38 45\n",
    "    # 02 09 16 23 30 37 44\n",
    "    # 01 08 15 22 29 36 43 \n",
    "    # 00 07 14 21 28 35 42\n",
    "\n",
    "    def make_move(self, col):\n",
    "        \n",
    "        if col == -1: return\n",
    "\n",
    "        if self.height[col] >= 6:\n",
    "            return False\n",
    "\n",
    "        # Get position\n",
    "        row = self.height[col]\n",
    "        bit_position = col * 7 + row\n",
    "\n",
    "        # Update bitboard\n",
    "        if self.current_player == 1:\n",
    "            self.player1 |= (1 << bit_position)\n",
    "        else:\n",
    "            self.player2 |= (1 << bit_position)\n",
    "\n",
    "        # Update heightmap\n",
    "        self.height[col] += 1\n",
    "\n",
    "        # Switch to other player1\n",
    "        self.current_player = 3 - self.current_player\n",
    "        return True\n",
    "\n",
    "    def check_player_win(self, player):\n",
    "        # Diagonal \\\n",
    "        if player == 1:\n",
    "            board = self.player1\n",
    "        else:\n",
    "            board = self.player2\n",
    "\n",
    "        y = board & (board >> 6)\n",
    "        if (y & (y >> 2 * 6)):\n",
    "            return True\n",
    "        \n",
    "        # Horizontal\n",
    "        y = board & (board >> 7)\n",
    "        if (y & (y >> 2 * 7)):\n",
    "            return True\n",
    "\n",
    "        # Diagonal /\n",
    "        y = board & (board >> 8)\n",
    "        if (y & (y >> 2 * 8)):\n",
    "            return True\n",
    "\n",
    "        # Vertical\n",
    "        y = board & (board >> 1)\n",
    "        if (y & (y >> 2)):      \n",
    "            return True\n",
    "        return False\n",
    "\n",
    "    def get_legal_moves(self):\n",
    "        return [col for col in range(7) if self.height[col] < 6]\n",
    "    \n",
    "    def is_over(self):\n",
    "        return self.check_player_win(1) or self.check_player_win(2) or all(h == 6 for h in self.height)\n",
    "\n",
    "    def copy(self): # returns deep copy of self\n",
    "        new_bitboard = Bitboard()\n",
    "        new_bitboard.player1 = self.player1\n",
    "        new_bitboard.player2 = self.player2\n",
    "        new_bitboard.height = self.height.copy()\n",
    "        new_bitboard.current_player = self.current_player\n",
    "        return new_bitboard\n",
    "\n",
    "    def matrix(self):\n",
    "\n",
    "        matrix = [[0] * 7 for _ in range(6)]\n",
    "\n",
    "        for bit_position in range(48):\n",
    "            row = bit_position // 7  \n",
    "            col = bit_position % 7\n",
    "\n",
    "            # Check if the bit is set in player1's bitboard\n",
    "            if self.player1 & (1 << bit_position):\n",
    "                matrix[col][row] = 1\n",
    "            # Check if the bit is set in player2's bitboard\n",
    "            elif self.player2 & (1 << bit_position):\n",
    "                matrix[col][row] = 2\n",
    "\n",
    "        return matrix\n",
    "\n",
    "    def __str__(self):\n",
    "        # Print the matrix in a readable format\n",
    "        matrix = self.matrix()\n",
    "        resul = \"\"\n",
    "        for row in matrix:\n",
    "            for cell in row:\n",
    "                if cell == 0:\n",
    "                    resul += \"- \"\n",
    "                elif cell == 1:\n",
    "                    resul += \"X \"\n",
    "                elif cell == 2:\n",
    "                    resul += \"O \"\n",
    "            resul += \"\\n\"\n",
    "        return resul\n"
   ]
  },
  {
   "cell_type": "markdown",
   "id": "7f6347bb",
   "metadata": {},
   "source": [
    "### **2.3 Bitboard vs Matrix** ###"
   ]
  },
  {
   "cell_type": "code",
   "execution_count": 3,
   "id": "4f478799",
   "metadata": {},
   "outputs": [],
   "source": [
    "##exemplo de codigo que faça o connect4 com matriz ou array "
   ]
  },
  {
   "cell_type": "markdown",
   "id": "895b5ef0",
   "metadata": {},
   "source": [
    "## **3. Algorithms Implementation** ##"
   ]
  },
  {
   "cell_type": "markdown",
   "id": "18f2d5fc",
   "metadata": {},
   "source": [
    "### **3.1 Monte Carlo Tree Search (MCTS)** ###"
   ]
  },
  {
   "cell_type": "markdown",
   "id": "460589bf",
   "metadata": {},
   "source": [
    "MCTS is a heuristic search algorithm that combines random sampling with tree search to make optimal decisions in complex environments. It's particularly effective for games like Connect Four with large branching factors. The algorithm operates in four phases:  \n",
    "- **Selection:** Traverse the tree using Upper Confidence Bound (UCB) to balance exploration/exploitation.\n",
    "\n",
    "- **Expansion:** Add a new child node for an unexplored move.\n",
    "\n",
    "- **Simulation:** Perform random playouts from new nodes to a terminal state.\n",
    "\n",
    "- **Backpropagation:** Update node statistics with simulation results.\n",
    "\n",
    "The UCB formula balances known good moves with unexplored possibilities:\n",
    "\n",
    "$$\n",
    "UCB = \\frac{U}{N} + C*\\sqrt{\\frac{ln{(Parent_N)}}{N}}\n",
    "$$"
   ]
  },
  {
   "cell_type": "markdown",
   "id": "739b1a1e",
   "metadata": {},
   "source": [
    "#### **3.1.1. Libraries** ####"
   ]
  },
  {
   "cell_type": "code",
   "execution_count": 4,
   "id": "4bf95562",
   "metadata": {},
   "outputs": [],
   "source": [
    "from math import sqrt, log\n",
    "import random"
   ]
  },
  {
   "cell_type": "markdown",
   "id": "08fa56e2",
   "metadata": {},
   "source": [
    "- We import __sqrt__ and __log__ from the math module for mathematical calculations used in the UCB formula, and __random__ for selecting random moves during the search process."
   ]
  },
  {
   "cell_type": "markdown",
   "id": "9125f148",
   "metadata": {},
   "source": [
    "#### **3.1.2. Class Node** ####"
   ]
  },
  {
   "cell_type": "code",
   "execution_count": 5,
   "id": "23a6c5f6",
   "metadata": {},
   "outputs": [],
   "source": [
    "class Node:\n",
    "    __slots__ = ['parent', 'move', 'children', 'wins', 'visits']\n",
    "        \n",
    "    def __init__(self, parent, move):\n",
    "        self.parent = parent  # Node\n",
    "        self.move = move  # move that led to this state\n",
    "        self.children = {}  # Nodes\n",
    "        self.wins = 0\n",
    "        self.visits = 0\n",
    "\n",
    "    def ucb_score(self, exploration_weight=5):\n",
    "        if self.visits == 0:\n",
    "            return float('inf')\n",
    "\n",
    "        return (self.wins / self.visits) + exploration_weight * sqrt(log(self.parent.visits) / self.visits)\n",
    "\n",
    "    def expand(self, bitboard):\n",
    "        children = {Node(self, move) for move in bitboard.get_legal_moves()}\n",
    "        self.children = children\n",
    "        return random.choice(list(children))\n"
   ]
  },
  {
   "cell_type": "markdown",
   "id": "5475f354",
   "metadata": {},
   "source": [
    "The Node class represents a single state in the search tree.\n",
    "\n",
    "- Memory-efficient with `__slots__`\n",
    "\n",
    "- Each node tracks its parent, the move that led to this state, its children, and statistics (wins and visits).\n",
    "\n",
    "- The `ucb_score` method computes the Upper Confidence Bound score for balancing exploration and exploitation, driving to an intelligent node selection.\n",
    "\n",
    "- The `expand` method generates all possible child nodes from the current state and returns a randomly selected child for simulation."
   ]
  },
  {
   "cell_type": "markdown",
   "id": "2a134156",
   "metadata": {},
   "source": [
    "#### **3.1.3. Class MCTS** ####"
   ]
  },
  {
   "cell_type": "code",
   "execution_count": 6,
   "id": "88680c0c",
   "metadata": {},
   "outputs": [],
   "source": [
    "class MCTS:\n",
    "\n",
    "    def __init__(self, iterations):\n",
    "        self.iterations = iterations\n",
    "\n",
    "    def select(self, root, state):\n",
    "        node = root\n",
    "        while node.children: \n",
    "            node = max(node.children, key=lambda c: c.ucb_score())\n",
    "            state.make_move(node.move)\n",
    "        return node, state\n",
    "\n",
    "\n",
    "    def simulate(self, state):\n",
    "        moves = state.get_legal_moves()\n",
    "        while moves:\n",
    "            move = random.choice(moves)\n",
    "            state.make_move(move)\n",
    "            if state.is_over():\n",
    "                break\n",
    "            moves = state.get_legal_moves()\n",
    "        if state.check_player_win(1): return 1\n",
    "        if state.check_player_win(2): return 2\n",
    "        return 0\n",
    "        \n",
    "\n",
    "    def backpropagate(self, winner, node, state):\n",
    "\n",
    "        reward = 0 if state.current_player == winner else 1\n",
    "\n",
    "        while node is not None:\n",
    "            node.visits += 1\n",
    "            if winner == 0:\n",
    "                reward = 0\n",
    "            else:\n",
    "                node.wins += reward\n",
    "                reward = 1 - reward\n",
    "            node = node.parent\n",
    "\n",
    "\n",
    "    def search(self, bitboard):\n",
    "        root = Node(None, None)\n",
    "        root.expand(bitboard);\n",
    "\n",
    "        for _ in range(self.iterations):\n",
    "\n",
    "            state = bitboard.copy()\n",
    "\n",
    "            leaf, state = self.select(root, state)\n",
    "            \n",
    "            # only simulate if its not terminal state\n",
    "            if not state.is_over():\n",
    "                leaf = leaf.expand(state)\n",
    "                state.make_move(leaf.move)\n",
    "            \n",
    "            winner = self.simulate(state.copy())\n",
    "            \n",
    "            self.backpropagate(winner, leaf, state)\n",
    "\n",
    "        # stats for the display\n",
    "        arr = [0] * 14\n",
    "        for child in root.children:\n",
    "            arr[child.move] = child.visits\n",
    "            arr[7+child.move] = child.wins\n",
    "    \n",
    "        # return the child with MOST VISITS, we don't use winrate here\n",
    "        return max(root.children, key=lambda c: c.visits).move, arr\n"
   ]
  },
  {
   "cell_type": "markdown",
   "id": "3ea3a907",
   "metadata": {},
   "source": [
    "The Principal methods of the class `MCTS` are:\n",
    "\n",
    "- `__init__(self, iterations)` : The constructor only takes a single parameter, the number of iterations the algorithm will run and determines the depth search.\n",
    "\n",
    "\n",
    "- `select(self, root, state)` : This method implements the __selection__ phase of MCTS\n",
    "    - Starts at the root node and descends through the tree  \n",
    "    - At each level, selects the child with the highest UCB score, from the class `Node` \n",
    "    - Updates the game state as it descends  \n",
    "    - Returns the selected leaf node and its corresponding state\n",
    "\n",
    "\n",
    "- `simulate(self, state)` : This method performs the __simulation__ phase of MCTS\n",
    "    - Executes a random play from the current state\n",
    "    - Continues making random moves until the game ends\n",
    "    - Returns the result: 1 if player 1 wins, 2 if player 2 wins, 0 for a draw\n",
    "\n",
    "\n",
    "- `backpropagate(self, winner, node, state)` : This method implements the __backpropagation__ phase of MCTS  \n",
    "    - Updates statistics (visits and wins) on all nodes in the path back to the root\n",
    "    - Alternates the reward (0/1) to handle zero-sum games\n",
    "    - If the result was a draw (winner=0), no wins are added\n",
    "\n",
    "\n",
    "- `search(self, bitboard)` : This is the __main__ method that manage the entire MCTS process\n",
    "    - Creates a root node and expands it\n",
    "    - For each iteration:  \n",
    "        - Copies the current game state\n",
    "        - Selects a leaf node using UCB\n",
    "        - If the game isn't over, expands the node and makes a move  \n",
    "        - Simulates the game to completion  \n",
    "        - Propagates the results back up the tree\n",
    "    - Collects statistics for visualization  \n",
    "    - Returns the move with the most visits (considered the best) and the statistics\n",
    "\n",
    "\n",
    "The MCTS algorithm is powerful because it doesn't require domain-specific knowledge beyond the game rules, and naturally balances exploration of new moves with exploitation of moves known to be good.\n",
    "\n",
    "\n",
    "\n"
   ]
  },
  {
   "cell_type": "markdown",
   "id": "ea41db59",
   "metadata": {},
   "source": [
    "### **3.2 Decision Trees (ID3)** ###"
   ]
  },
  {
   "cell_type": "markdown",
   "id": "2b9299ab",
   "metadata": {},
   "source": [
    "#### **3.2.1. Dataset Generation Libraries** ####"
   ]
  },
  {
   "cell_type": "code",
   "execution_count": null,
   "id": "eba7ec59",
   "metadata": {},
   "outputs": [],
   "source": [
    "import csv\n",
    "import random\n",
    "from tqdm import tqdm\n",
    "from game import Bitboard\n",
    "from mcts import MCTS\n",
    "import multiprocessing as mp\n",
    "from multiprocessing import Pool\n",
    "import os"
   ]
  },
  {
   "cell_type": "markdown",
   "id": "657ee5ac",
   "metadata": {},
   "source": [
    "dizer o porque desta libraries"
   ]
  },
  {
   "cell_type": "markdown",
   "id": "d6b97108",
   "metadata": {},
   "source": [
    "#### **3.2.2. Dataset Generator** ####"
   ]
  },
  {
   "cell_type": "code",
   "execution_count": null,
   "id": "a2f55c0a",
   "metadata": {},
   "outputs": [],
   "source": [
    "def encode_board(board):\n",
    "    # Positions of unused bits (0-based index)\n",
    "    unused_bits = {5, 13, 20, 27, 34, 41}\n",
    "            \n",
    "    # Initialize the result array (41 positions)\n",
    "    positions = [0] * 42    \n",
    "    \n",
    "    # Current position in the output array (0-based)\n",
    "    pos_idx = 0\n",
    "    \n",
    "    # Iterate through all 48 bits (1-based)\n",
    "    for i in range(48):\n",
    "        if i in unused_bits:\n",
    "            continue  # Skip unused bits\n",
    "            \n",
    "        p1_bit = (board.player1 >> i) & 1\n",
    "        p2_bit = (board.player2 >> i) & 1\n",
    "        if p1_bit:\n",
    "            positions[pos_idx] = 1\n",
    "        elif p2_bit:\n",
    "            positions[pos_idx] = -1\n",
    "  \n",
    "        pos_idx += 1\n",
    "    \n",
    "    return positions\n",
    "\n",
    "def worker_process(args):\n",
    "    \"\"\"Worker function that generates a single game sample\"\"\"\n",
    "    mcts_iterations, min_random_moves, max_random_moves, process_id = args\n",
    "    # Create MCTS instance per process to avoid sharing issues\n",
    "    mcts = MCTS(mcts_iterations)\n",
    "    \n",
    "    board = Bitboard()\n",
    "    # Make 0 to k random moves\n",
    "     \n",
    "    for _ in range(random.randint(min_random_moves, max_random_moves)):\n",
    "        legal = board.get_legal_moves()\n",
    "        if not legal or board.is_over():\n",
    "            return (None, True)\n",
    "        board.make_move(random.choice(legal))\n",
    "    \n",
    "    if board.is_over(): return (None, True)\n",
    "\n",
    "    encoded = encode_board(board)\n",
    "    move, _ = mcts.search(board.copy())\n",
    "    return (encoded + [move], False)\n",
    "\n",
    "def generate_dataset_parallel(n_games=1000, batch_size=500, mcts_iterations=10000, min_random_moves=8, max_random_moves=25):\n",
    "    # Determine number of CPU cores to use e\n",
    "    num_processes = mp.cpu_count()\n",
    "    completed = 0\n",
    "    terminated_early = 0\n",
    "\n",
    "    # Create a pool of worker processes e\n",
    "    with Pool(processes=num_processes) as pool:\n",
    "        # Prepare arguments for each worker\n",
    "        worker_args = [(mcts_iterations, min_random_moves, max_random_moves, i) for i in range(n_games)]\n",
    "        \n",
    "        # Open the output file  \n",
    "        with open(\"dataset.csv\", 'a', newline='') as f:\n",
    "            writer = csv.writer(f)  \n",
    "            if f.tell() == 0:  # File is empty\n",
    "                writer.writerow([f\"pos_{i}\" for i in range(42)] + [\"move\"])\n",
    "            \n",
    "            buffer = []\n",
    "            buffer_size = 0\n",
    "            \n",
    "            # Use imap_unordered for faster results as they become available\n",
    "            with tqdm(total=n_games, desc=\"Generating Examples\") as pbar:\n",
    "                for result in pool.imap_unordered(worker_process, worker_args):\n",
    "                    if result[1]: terminated_early += 1\n",
    "                    elif result[0] is not None:\n",
    "\n",
    "                        completed += 1\n",
    "\n",
    "                        buffer.append(result[0])\n",
    "                        buffer_size += 1\n",
    "                        # Write in batches\n",
    "                        if buffer_size >= batch_size:\n",
    "                            writer.writerows(buffer)\n",
    "                            buffer.clear()\n",
    "                            buffer_size = 0\n",
    "\n",
    "\n",
    "                    pbar.update(1)\n",
    "\n",
    "                # Write remaining samples\n",
    "                if buffer:\n",
    "                    writer.writerows(buffer)\n",
    "\n",
    "    print(f\"Completed games: {completed} ({completed/n_games:.1%})\")\n",
    "    print(f\"Terminated Early: {terminated_early} ({terminated_early/n_games:.1%})\")\n",
    "\n",
    "if __name__ == '__main__':\n",
    "    # Required for Windows multiprocessing support\n",
    "    generate_dataset_parallel(n_games=180000, batch_size=1000, min_random_moves=10, max_random_moves=30)\n"
   ]
  },
  {
   "cell_type": "markdown",
   "id": "8192e20c",
   "metadata": {},
   "source": [
    "Explicar a geraçao do dataset e como a tornamos mais eficiente"
   ]
  },
  {
   "cell_type": "markdown",
   "id": "4e832eee",
   "metadata": {},
   "source": [
    "#### **3.2.3. ID3 Libraries** ####"
   ]
  },
  {
   "cell_type": "code",
   "execution_count": null,
   "id": "a71d89d7",
   "metadata": {},
   "outputs": [],
   "source": [
    "import numpy as np"
   ]
  },
  {
   "cell_type": "markdown",
   "id": "07546145",
   "metadata": {},
   "source": [
    "__NumPy__ is the only external library used in this implementation. It provides essential functionality for numerical operations, including:\n",
    "\n",
    "- Efficient array manipulation and mathematical functions\n",
    "- Statistical tools for counting and probability calculations\n",
    "- Mathematical operations like logarithms used in entropy calculations\n"
   ]
  },
  {
   "cell_type": "markdown",
   "id": "70daf431",
   "metadata": {},
   "source": [
    "#### **3.2.4. Auxiliary Functions** ####"
   ]
  },
  {
   "cell_type": "code",
   "execution_count": null,
   "id": "8ae28492",
   "metadata": {},
   "outputs": [],
   "source": [
    "def entropy(y):\n",
    "    counts = np.bincount(y)\n",
    "    probs = counts / len(y)\n",
    "    return -np.sum([p * np.log2(p) for p in probs if p > 0])\n",
    "\n",
    "def gini(y):\n",
    "    counts = np.bincount(y)\n",
    "    ps = counts / len(y)\n",
    "    return 1 - np.sum(ps ** 2)\n",
    "\n",
    "def information_gain(parent, left, right):\n",
    "    weight_l = len(left) / len(parent)\n",
    "    weight_r = len(right) / len(parent)\n",
    "    return entropy(parent) - (weight_l * entropy(left) + weight_r * entropy(right))\n",
    "\n",
    "def gini_gain(parent, left, right):\n",
    "    weight_l = len(left) / len(parent)\n",
    "    weight_r = len(right) / len(parent)\n",
    "    return gini(parent) - (weight_l * gini(left) + weight_r * gini(right))  \n",
    " "
   ]
  },
  {
   "cell_type": "markdown",
   "id": "94a3dec9",
   "metadata": {},
   "source": [
    "The following function calculate:\n",
    "\n",
    "- `entropy(y)`  \n",
    "    - Calculates Shannon entropy, a measure of impurity in a set of labels\n",
    "    - Uses np.bincount() to count occurrences of each class\n",
    "    - Computes probability distribution by dividing counts by total number of samples\n",
    "    - Returns the negative sum of p * log2(p) for each probability p\n",
    "    - Higher entropy indicates more mixed classes (more impurity)\n",
    "\n",
    "\n",
    "- `giny(y)`  \n",
    "    - Calculates Gini impurity, an alternative measure of node impurity\n",
    "    - Like entropy, starts by counting class occurrences and calculating probabilities\n",
    "    - Returns 1 minus the sum of squared probabilities\n",
    "    - A value of 0 indicates a pure node (all samples belong to the same class)\n",
    "    - A higher value indicates more impurity\n",
    "\n",
    "\n",
    "- `information_gain(parent, left, right)`\n",
    "    - Measures the reduction in entropy achieved by splitting a parent node\n",
    "    - Calculates weighted average entropy of child nodes (left and right)\n",
    "    - Subtracts this from the parent entropy to determine information gain\n",
    "    - Higher values indicate more informative splits\n",
    "\n",
    "\n",
    "- `gini_gain(parent, left, right)`\n",
    "    - Similar to information gain but uses Gini impurity instead of entropy\n",
    "    - Measures the reduction in Gini impurity achieved by a split\n",
    "    - Higher values indicate more effective splits\n",
    "\n"
   ]
  },
  {
   "cell_type": "markdown",
   "id": "79159af2",
   "metadata": {},
   "source": [
    "#### **3.2.5. ID3 Class Node** ####"
   ]
  },
  {
   "cell_type": "code",
   "execution_count": null,
   "id": "452c6275",
   "metadata": {},
   "outputs": [],
   "source": [
    "class Node:\n",
    "    def __init__(self, feature=None, threshold=None, left=None, right=None, value=None):\n",
    "        self.feature = feature   \n",
    "        self.threshold = threshold\n",
    "        self.left = left\n",
    "        self.right = right\n",
    "        self.value = value\n",
    "        "
   ]
  },
  {
   "cell_type": "markdown",
   "id": "cfdab1ff",
   "metadata": {},
   "source": [
    "The Node class represents elements in the decision tree structure:\n",
    "- __Internal Nodes (decision nodes)__\n",
    "    - `feature`: Index of the feature to test\n",
    "    - `threshold`: Value to compare against\n",
    "    - `left`: Child node for samples where feature ≤ threshold\n",
    "    - `right`: Child node for samples where feature > threshold\n",
    "    - `value`: None\n",
    "    \n",
    "- __Leaf nodes (prediction nodes)__\n",
    "    - `feature`, `threshold`, `left`, `right`:None\n",
    "    - `value`: The predicted class\n",
    "\n",
    "This flexible design allows the same class to represent both decision points and final predictions.\n"
   ]
  },
  {
   "cell_type": "markdown",
   "id": "1f61bad0",
   "metadata": {},
   "source": [
    "#### **3.2.6. Class ID3DecisionTree** ####"
   ]
  },
  {
   "cell_type": "code",
   "execution_count": null,
   "id": "216d7db1",
   "metadata": {},
   "outputs": [],
   "source": [
    "class ID3DecisionTree:\n",
    "\n",
    "    def __init__(self, max_depth=3, criterion='gini'):\n",
    "        self.criterion = gini_gain if criterion == 'gini' else information_gain\n",
    "        self.max_depth = max_depth\n",
    "        self.root = None\n",
    "\n",
    "\n",
    "    def fit(self, X, y):\n",
    "        print(self.criterion.__name__)\n",
    "        self.root = self.grow(X, y)\n",
    "    \n",
    "    def grow(self, X, y, depth=0):\n",
    "        if len(set(y)) == 1 or depth >= self.max_depth: \n",
    "            return Node(value=np.bincount(y).argmax())  \n",
    "\n",
    "        best_gain = -1\n",
    "        best_feature, best_threshold = None, None\n",
    "        best_left_mask, best_right_mask = None, None\n",
    "\n",
    "        for feature in range(X.shape[1]):\n",
    "            thresholds = np.unique(X[:, feature])\n",
    "            if len(thresholds) > 10:\n",
    "                thresholds = np.quantile(X[:, feature], [0.25, 0.5, 0.75])\n",
    "            for t in thresholds:\n",
    "                left_mask = X[:, feature] <= t   \n",
    "                right_mask = ~left_mask\n",
    "\n",
    "                if left_mask.sum() == 0 or right_mask.sum() == 0:\n",
    "                    continue\n",
    "\n",
    "                gain = self.criterion(y, y[left_mask], y[right_mask])\n",
    "\n",
    "                if gain > best_gain:\n",
    "                    best_gain = gain\n",
    "                    best_feature = feature\n",
    "                    best_threshold = t\n",
    "                    best_left_mask = left_mask\n",
    "                    best_right_mask = right_mask\n",
    "\n",
    "        if best_gain < 1e-6 or best_feature is None:  \n",
    "            return Node(value=np.bincount(y).argmax())\n",
    "\n",
    "        left = self.grow(X[best_left_mask], y[best_left_mask], depth + 1)\n",
    "        right = self.grow(X[best_right_mask], y[best_right_mask], depth + 1)\n",
    "        return Node(feature=best_feature, threshold=best_threshold, left=left, right=right)\n",
    "\n",
    "    def predict(self, X):\n",
    "        return np.array([self._predict(inputs, self.root) for inputs in X])\n",
    "\n",
    "    def _predict(self, inputs, node):\n",
    "        if node.value is not None:\n",
    "            return node.value\n",
    "        if inputs[node.feature] <= node.threshold:\n",
    "            return self._predict(inputs, node.left)\n",
    "        else:\n",
    "            return self._predict(inputs, node.right)\n",
    "        "
   ]
  },
  {
   "cell_type": "markdown",
   "id": "0d2bb0de",
   "metadata": {},
   "source": [
    "por explicar"
   ]
  },
  {
   "cell_type": "markdown",
   "id": "a74be669",
   "metadata": {},
   "source": [
    "## **4. Connect Four Algorithms Implementation** ##"
   ]
  },
  {
   "cell_type": "markdown",
   "id": "23ff0aa2",
   "metadata": {},
   "source": [
    "### **4.1. Libraries** ###\n"
   ]
  },
  {
   "cell_type": "code",
   "execution_count": null,
   "id": "6383cfd0",
   "metadata": {},
   "outputs": [],
   "source": [
    "import game\n",
    "import mcts\n",
    "from pygame import gfxdraw\n",
    "import pygame\n",
    "from os import environ\n",
    "import time\n",
    "environ['PYGAME_HIDE_SUPPORT_PROMPT'] = '1'"
   ]
  },
  {
   "cell_type": "markdown",
   "id": "7f036b5f",
   "metadata": {},
   "source": [
    "### **4.2. Nao sei** ###\n"
   ]
  },
  {
   "cell_type": "code",
   "execution_count": null,
   "id": "64caf74f",
   "metadata": {},
   "outputs": [],
   "source": []
  },
  {
   "cell_type": "markdown",
   "id": "d8804dab",
   "metadata": {},
   "source": [
    "## **5. User Interface Game** ##\n"
   ]
  },
  {
   "cell_type": "markdown",
   "id": "415e622b",
   "metadata": {},
   "source": [
    "### **5.1. Human vs Human** ###\n"
   ]
  },
  {
   "cell_type": "markdown",
   "id": "94de52b3",
   "metadata": {},
   "source": [
    "### **5.2. Human vs MCTS** ###\n"
   ]
  },
  {
   "cell_type": "markdown",
   "id": "4cf64346",
   "metadata": {},
   "source": [
    "### **5.3. Human vs ID3** ###\n"
   ]
  },
  {
   "cell_type": "markdown",
   "id": "cc1fef65",
   "metadata": {},
   "source": [
    "### **5.4. MCTS vs ID3** ###\n"
   ]
  },
  {
   "cell_type": "markdown",
   "id": "ba91a1ca",
   "metadata": {},
   "source": [
    "## **6. Results** ##\n"
   ]
  },
  {
   "cell_type": "markdown",
   "id": "13504dfa",
   "metadata": {},
   "source": [
    "## **7. Conclusion** ##\n"
   ]
  }
 ],
 "metadata": {
  "kernelspec": {
   "display_name": "base",
   "language": "python",
   "name": "python3"
  },
  "language_info": {
   "codemirror_mode": {
    "name": "ipython",
    "version": 3
   },
   "file_extension": ".py",
   "mimetype": "text/x-python",
   "name": "python",
   "nbconvert_exporter": "python",
   "pygments_lexer": "ipython3",
   "version": "3.11.5"
  }
 },
 "nbformat": 4,
 "nbformat_minor": 5
}
