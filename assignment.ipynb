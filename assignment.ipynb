{
 "cells": [
  {
   "cell_type": "markdown",
   "id": "0ab68d30",
   "metadata": {},
   "source": [
    "# **AI Assignment: Connect 4 with MCTS and ID3**"
   ]
  },
  {
   "cell_type": "markdown",
   "id": "64607dab",
   "metadata": {},
   "source": [
    "### Assignment Done by:\n",
    "- David Ventura Mendes de Sá (UP202303580)\n",
    "- Samuel José Sousa Ventura da Silva (UP202305647)"
   ]
  },
  {
   "cell_type": "markdown",
   "id": "0579ad64",
   "metadata": {},
   "source": [
    "## 0. Contents\n",
    "1. Introduction\n",
    "\n",
    "2. Connect Four  \n",
    "    **2.1.** Libraries  \n",
    "    **2.2.** Game Implementation  \n",
    "    **2.3.** Bitboard vs Matrix  \n",
    "\n",
    "3. Algorithms    \n",
    "    **3.1.** Monte Carlo Tree Search (MCTS)   \n",
    "    **3.2.** Decision Trees (ID3)     \n",
    "        **3.2.1.** Dataset Generation  \n",
    "\n",
    "      \n",
    "\n",
    "4. Algorithms Implementation  \n",
    "    **4.1.** Libraries   \n",
    "\n",
    "\n",
    "4. UI Game\n",
    "\n",
    "6. Results\n",
    "7. Conclusion\n",
    "\n",
    "8. References\n",
    "\n",
    "   "
   ]
  },
  {
   "cell_type": "markdown",
   "id": "74022748",
   "metadata": {},
   "source": [
    "## **1. Introduction** ##"
   ]
  },
  {
   "cell_type": "markdown",
   "id": "2a155e1f",
   "metadata": {},
   "source": [
    "## **2. Connect Four** ##"
   ]
  },
  {
   "cell_type": "markdown",
   "id": "38d93171",
   "metadata": {},
   "source": [
    "Connect Four is a two-player game where players take turns dropping discs into a 7x6 grid, aiming to be the first to connect four of their own discs in a row-horizontally, vertically, or diagonally. If the board fills up without a winner, the game is a draw."
   ]
  },
  {
   "cell_type": "markdown",
   "id": "3df6f5a4",
   "metadata": {},
   "source": [
    "Escrever alguma coisa sobre as libraries"
   ]
  },
  {
   "cell_type": "markdown",
   "id": "bf998d00",
   "metadata": {},
   "source": [
    "### **2.2. Bitboard Implementation** ###"
   ]
  },
  {
   "cell_type": "markdown",
   "id": "2dbfdceb",
   "metadata": {},
   "source": [
    "# Bitboard Class\n",
    "- `player1 and player2` are 48-bit integers that represent each player's placed pieces.\n",
    "- `height` is a 1x7 array, where height[col] returns the ammount of pieces in said column.\n",
    "- `current_player` (1 or 2) dictates which player makes the next move, this will come in handy when generating datasets for ID3."
   ]
  },
  {
   "cell_type": "markdown",
   "id": "143f54e1",
   "metadata": {},
   "source": [
    "**Explaining the Board Encoding:**\n",
    "- The Connect Four board is 7 columns by 6 rows (7x6 = 42 cells).\n",
    "- The height array keeps track of how many pieces are in each column, making it easy to check what moves are available.\n",
    "- Each integer's bit corresponds to a cell following this pattern: `bit_position = col * 7 + row`:"
   ]
  },
  {
   "cell_type": "markdown",
   "id": "e4df7492",
   "metadata": {},
   "source": [
    "<div style=\"text-align: center\">\n",
    "<table border=\"1\" cellpadding=\"8\" cellspacing=\"0\" style=\"margin: 0 auto\">\n",
    "  <tr><td>05</td><td>12</td><td>19</td><td>26</td><td>33</td><td>40</td><td>47</td></tr>\n",
    "  <tr><td>04</td><td>11</td><td>18</td><td>25</td><td>32</td><td>39</td><td>46</td></tr>\n",
    "  <tr><td>03</td><td>10</td><td>17</td><td>24</td><td>31</td><td>38</td><td>45</td></tr>\n",
    "  <tr><td>02</td><td>09</td><td>16</td><td>23</td><td>30</td><td>37</td><td>44</td></tr>\n",
    "  <tr><td>01</td><td>08</td><td>15</td><td>22</td><td>29</td><td>36</td><td>43</td></tr>\n",
    "  <tr><td>00</td><td>07</td><td>14</td><td>21</td><td>28</td><td>35</td><td>42</td></tr>\n",
    "</table>\n",
    "</div>\n",
    "<p style=\"text-align: center\">(bits 6, 13, 20, 27, 34, 41 and 48 are ignored to simplify bitwise operations.</p>"
   ]
  },
  {
   "cell_type": "markdown",
   "id": "789fc2f4",
   "metadata": {},
   "source": [
    "Since MCTS will need to constantly simulate games, switching from a matrix to Bitboard increases performance by a wide margin by enabling fast bitwise operations for move generation, win detection, board evaluation and cheap state copying. This is exactly what our use-case requires, since we'll be using a large number of iterations for each move calculated. "
   ]
  },
  {
   "cell_type": "markdown",
   "id": "62c3009c",
   "metadata": {},
   "source": [
    "#### **Methods:** ####\n",
    "\n",
    "- `make_move(col)`\n",
    "    - **Purpose:** Places a piece for the current player in the specified column.\n",
    "    - **How it works:**\n",
    "        - Checks if the column is full.\n",
    "        - Updates the bitboard for the current player using a bitwise OR operation.\n",
    "        - Increments the column height.\n",
    "        - Switches the turn to the other player.\n",
    "\n",
    "- `check_player_win(player)`\n",
    "    - **Purpose:** Checks if the player has achieved four in a row (win condition).\n",
    "    - **How it works:**\n",
    "        - Uses bitwise operations to efficiently check for four consecutive pieces in all directions (vertical, horizontal, and both diagonals).\n",
    "        - For example, a horizontal win is detected by checking if there are three consecutive bits to the right of a piece using bit shifts and AND operations.\n",
    "    \n",
    "- `get_legal_moves()`\n",
    "    - **Purpose:** Returns a list of columns where a move is possible (i.e., not full).\n",
    "    - **How it works:**\n",
    "        - Checks the height array for columns with less than 6 pieces.\n",
    "\n",
    "- `is_over()`\n",
    "    - **Purpose:** Determines if the game has ended, either by a win or a draw.\n",
    "    - **How it works:**\n",
    "        - Calls check_player_win for both players and checks if all columns are full.\n",
    "\n",
    "**We also provide `matrix()` and `__str__` for easier debugging.** "
   ]
  },
  {
   "cell_type": "code",
   "execution_count": null,
   "id": "f8f4e915",
   "metadata": {},
   "outputs": [],
   "source": [
    "class Bitboard:\n",
    "    def __init__(self):\n",
    "        self.player1 = 0\n",
    "        self.player2 = 0\n",
    "        self.height = [0] * 7\n",
    "        self.current_player = 1\n",
    "\n",
    "    def make_move(self, col):\n",
    "        \n",
    "        if col == -1: return\n",
    "\n",
    "        if self.height[col] >= 6:\n",
    "            return False\n",
    "\n",
    "        # Get position\n",
    "        row = self.height[col]\n",
    "        bit_position = col * 7 + row\n",
    "\n",
    "        # Update bitboard\n",
    "        if self.current_player == 1:\n",
    "            self.player1 |= (1 << bit_position)\n",
    "        else:\n",
    "            self.player2 |= (1 << bit_position)\n",
    "\n",
    "        # Update heightmap\n",
    "        self.height[col] += 1\n",
    "\n",
    "        # Switch to other player1\n",
    "        self.current_player = 3 - self.current_player\n",
    "        return True\n",
    "\n",
    "    def check_player_win(self, player):\n",
    "        # Diagonal \\\n",
    "        if player == 1:\n",
    "            board = self.player1\n",
    "        else:\n",
    "            board = self.player2\n",
    "\n",
    "        y = board & (board >> 6)\n",
    "        if (y & (y >> 2 * 6)):\n",
    "            return True\n",
    "        \n",
    "        # Horizontal\n",
    "        y = board & (board >> 7)\n",
    "        if (y & (y >> 2 * 7)):\n",
    "            return True\n",
    "\n",
    "        # Diagonal /\n",
    "        y = board & (board >> 8)\n",
    "        if (y & (y >> 2 * 8)):\n",
    "            return True\n",
    "\n",
    "        # Vertical\n",
    "        y = board & (board >> 1)\n",
    "        if (y & (y >> 2)):      \n",
    "            return True\n",
    "        return False\n",
    "\n",
    "    def get_legal_moves(self):\n",
    "        return [col for col in range(7) if self.height[col] < 6]\n",
    "    \n",
    "    def is_over(self):\n",
    "        return self.check_player_win(1) or self.check_player_win(2) or all(h == 6 for h in self.height)\n",
    "\n",
    "    def copy(self): # returns deep copy of self\n",
    "        new_bitboard = Bitboard()\n",
    "        new_bitboard.player1 = self.player1\n",
    "        new_bitboard.player2 = self.player2\n",
    "        new_bitboard.height = self.height.copy()\n",
    "        new_bitboard.current_player = self.current_player\n",
    "        return new_bitboard\n",
    "\n",
    "    def matrix(self):\n",
    "\n",
    "        matrix = [[0] * 7 for _ in range(6)]\n",
    "\n",
    "        for bit_position in range(48):\n",
    "            row = bit_position // 7  \n",
    "            col = bit_position % 7\n",
    "\n",
    "            # Check if the bit is set in player1's bitboard\n",
    "            if self.player1 & (1 << bit_position):\n",
    "                matrix[col][row] = 1\n",
    "            # Check if the bit is set in player2's bitboard\n",
    "            elif self.player2 & (1 << bit_position):\n",
    "                matrix[col][row] = 2\n",
    "\n",
    "        return matrix\n",
    "\n",
    "    def __str__(self):\n",
    "        # Print the matrix in a readable format\n",
    "        matrix = self.matrix()\n",
    "        resul = \"\"\n",
    "        for row in matrix:\n",
    "            for cell in row:\n",
    "                if cell == 0:\n",
    "                    resul += \"- \"\n",
    "                elif cell == 1:\n",
    "                    resul += \"X \"\n",
    "                elif cell == 2:\n",
    "                    resul += \"O \"\n",
    "            resul += \"\\n\"\n",
    "        return resul\n"
   ]
  },
  {
   "cell_type": "markdown",
   "id": "7f6347bb",
   "metadata": {},
   "source": [
    "### **2.3 Bitboard vs Matrix** ###"
   ]
  },
  {
   "cell_type": "code",
   "execution_count": 3,
   "id": "4f478799",
   "metadata": {},
   "outputs": [],
   "source": [
    "##exemplo de codigo que faça o connect4 com matriz ou array "
   ]
  },
  {
   "cell_type": "markdown",
   "id": "895b5ef0",
   "metadata": {},
   "source": [
    "## **3. Algorithms Implementation** ##"
   ]
  },
  {
   "cell_type": "markdown",
   "id": "18f2d5fc",
   "metadata": {},
   "source": [
    "### **3.1 Monte Carlo Tree Search (MCTS)** ###"
   ]
  },
  {
   "cell_type": "markdown",
   "id": "460589bf",
   "metadata": {},
   "source": [
    "MCTS is a heuristic search algorithm that combines random sampling with tree search to make optimal decisions in complex environments. It's particularly effective for games like Connect Four with large branching factors. The algorithm operates in four phases:  \n",
    "- **Selection:** Traverse the tree using Upper Confidence Bound (UCB) to balance exploration/exploitation.\n",
    "\n",
    "- **Expansion:** Add a new child node for an unexplored move.\n",
    "\n",
    "- **Simulation:** Perform random playouts from new nodes to a terminal state.\n",
    "\n",
    "- **Backpropagation:** Update node statistics with simulation results.\n",
    "\n",
    "The UCB formula balances known good moves with unexplored possibilities:\n",
    "\n",
    "$$\n",
    "UCB = \\frac{U}{N} + C*\\sqrt{\\frac{ln{(Parent_N)}}{N}}\n",
    "$$"
   ]
  },
  {
   "cell_type": "markdown",
   "id": "739b1a1e",
   "metadata": {},
   "source": [
    "#### **3.1.1. Libraries** ####"
   ]
  },
  {
   "cell_type": "code",
   "execution_count": 4,
   "id": "4bf95562",
   "metadata": {},
   "outputs": [],
   "source": [
    "from math import sqrt, log\n",
    "import random"
   ]
  },
  {
   "cell_type": "markdown",
   "id": "08fa56e2",
   "metadata": {},
   "source": [
    "- We import __sqrt__ and __log__ from the math module for mathematical calculations used in the UCB formula, and __random__ for selecting random moves during the search process."
   ]
  },
  {
   "cell_type": "markdown",
   "id": "9125f148",
   "metadata": {},
   "source": [
    "#### **3.1.2. Class Node** ####"
   ]
  },
  {
   "cell_type": "code",
   "execution_count": 5,
   "id": "23a6c5f6",
   "metadata": {},
   "outputs": [],
   "source": [
    "class Node:\n",
    "    __slots__ = ['parent', 'move', 'children', 'wins', 'visits']\n",
    "        \n",
    "    def __init__(self, parent, move):\n",
    "        self.parent = parent  # Node\n",
    "        self.move = move  # move that led to this state\n",
    "        self.children = {}  # Nodes\n",
    "        self.wins = 0\n",
    "        self.visits = 0\n",
    "\n",
    "    def ucb_score(self, exploration_weight=5):\n",
    "        if self.visits == 0:\n",
    "            return float('inf')\n",
    "\n",
    "        return (self.wins / self.visits) + exploration_weight * sqrt(log(self.parent.visits) / self.visits)\n",
    "\n",
    "    def expand(self, bitboard):\n",
    "        children = {Node(self, move) for move in bitboard.get_legal_moves()}\n",
    "        self.children = children\n",
    "        return random.choice(list(children))\n"
   ]
  },
  {
   "cell_type": "markdown",
   "id": "5475f354",
   "metadata": {},
   "source": [
    "The Node class represents a single state in the search tree.\n",
    "\n",
    "- Memory-efficient with `__slots__`\n",
    "\n",
    "- Each node tracks its parent, the move that led to this state, its children, and statistics (wins and visits).\n",
    "\n",
    "- The `ucb_score` method computes the Upper Confidence Bound score for balancing exploration and exploitation, driving to an intelligent node selection.\n",
    "\n",
    "- The `expand` method generates all possible child nodes from the current state and returns a randomly selected child for simulation."
   ]
  },
  {
   "cell_type": "markdown",
   "id": "2a134156",
   "metadata": {},
   "source": [
    "#### **3.1.3. Class MCTS** ####"
   ]
  },
  {
   "cell_type": "code",
   "execution_count": 6,
   "id": "88680c0c",
   "metadata": {},
   "outputs": [],
   "source": [
    "class MCTS:\n",
    "\n",
    "    def __init__(self, iterations):\n",
    "        self.iterations = iterations\n",
    "\n",
    "    def select(self, root, state):\n",
    "        node = root\n",
    "        while node.children: \n",
    "            node = max(node.children, key=lambda c: c.ucb_score())\n",
    "            state.make_move(node.move)\n",
    "        return node, state\n",
    "\n",
    "\n",
    "    def simulate(self, state):\n",
    "        moves = state.get_legal_moves()\n",
    "        while moves:\n",
    "            move = random.choice(moves)\n",
    "            state.make_move(move)\n",
    "            if state.is_over():\n",
    "                break\n",
    "            moves = state.get_legal_moves()\n",
    "        if state.check_player_win(1): return 1\n",
    "        if state.check_player_win(2): return 2\n",
    "        return 0\n",
    "        \n",
    "\n",
    "    def backpropagate(self, winner, node, state):\n",
    "\n",
    "        reward = 0 if state.current_player == winner else 1\n",
    "\n",
    "        while node is not None:\n",
    "            node.visits += 1\n",
    "            if winner == 0:\n",
    "                reward = 0\n",
    "            else:\n",
    "                node.wins += reward\n",
    "                reward = 1 - reward\n",
    "            node = node.parent\n",
    "\n",
    "\n",
    "    def search(self, bitboard):\n",
    "        root = Node(None, None)\n",
    "        root.expand(bitboard);\n",
    "\n",
    "        for _ in range(self.iterations):\n",
    "\n",
    "            state = bitboard.copy()\n",
    "\n",
    "            leaf, state = self.select(root, state)\n",
    "            \n",
    "            # only simulate if its not terminal state\n",
    "            if not state.is_over():\n",
    "                leaf = leaf.expand(state)\n",
    "                state.make_move(leaf.move)\n",
    "            \n",
    "            winner = self.simulate(state.copy())\n",
    "            \n",
    "            self.backpropagate(winner, leaf, state)\n",
    "\n",
    "        # stats for the display\n",
    "        arr = [0] * 14\n",
    "        for child in root.children:\n",
    "            arr[child.move] = child.visits\n",
    "            arr[7+child.move] = child.wins\n",
    "    \n",
    "        # return the child with MOST VISITS, we don't use winrate here\n",
    "        return max(root.children, key=lambda c: c.visits).move, arr\n"
   ]
  },
  {
   "cell_type": "markdown",
   "id": "3ea3a907",
   "metadata": {},
   "source": [
    "The Principal methods of the class `MCTS` are:\n",
    "\n",
    "- `__init__(self, iterations)` : The constructor only takes a single parameter, the number of iterations the algorithm will run and determines the depth search.\n",
    "\n",
    "\n",
    "- `select(self, root, state)` : This method implements the __selection__ phase of MCTS\n",
    "    - Starts at the root node and descends through the tree  \n",
    "    - At each level, selects the child with the highest UCB score, from the class `Node` \n",
    "    - Updates the game state as it descends  \n",
    "    - Returns the selected leaf node and its corresponding state\n",
    "\n",
    "\n",
    "- `simulate(self, state)` : This method performs the __simulation__ phase of MCTS\n",
    "    - Executes a random play from the current state\n",
    "    - Continues making random moves until the game ends\n",
    "    - Returns the result: 1 if player 1 wins, 2 if player 2 wins, 0 for a draw\n",
    "\n",
    "\n",
    "- `backpropagate(self, winner, node, state)` : This method implements the __backpropagation__ phase of MCTS  \n",
    "    - Updates statistics (visits and wins) on all nodes in the path back to the root\n",
    "    - Alternates the reward (0/1) to handle zero-sum games\n",
    "    - If the result was a draw (winner=0), no wins are added\n",
    "\n",
    "\n",
    "- `search(self, bitboard)` : This is the __main__ method that manage the entire MCTS process\n",
    "    - Creates a root node and expands it\n",
    "    - For each iteration:  \n",
    "        - Copies the current game state\n",
    "        - Selects a leaf node using UCB\n",
    "        - If the game isn't over, expands the node and makes a move  \n",
    "        - Simulates the game to completion  \n",
    "        - Propagates the results back up the tree\n",
    "    - Collects statistics for visualization  \n",
    "    - Returns the move with the most visits (considered the best) and the statistics\n",
    "\n",
    "\n",
    "The MCTS algorithm is powerful because it doesn't require domain-specific knowledge beyond the game rules, and naturally balances exploration of new moves with exploitation of moves known to be good.\n",
    "\n",
    "\n",
    "\n"
   ]
  },
  {
   "cell_type": "markdown",
   "id": "ea41db59",
   "metadata": {},
   "source": [
    "### **3.2 Decision Trees (ID3)** ###"
   ]
  },
  {
   "cell_type": "markdown",
   "id": "2b9299ab",
   "metadata": {},
   "source": [
    "#### **3.2.1. Dataset Generation** ####"
   ]
  },
  {
   "cell_type": "markdown",
   "id": "657ee5ac",
   "metadata": {},
   "source": [
    "Falar um bocado do porque de termos gerado desta maneira"
   ]
  },
  {
   "cell_type": "code",
   "execution_count": 7,
   "id": "a2f55c0a",
   "metadata": {},
   "outputs": [],
   "source": [
    "###codigo do dataset"
   ]
  },
  {
   "cell_type": "markdown",
   "id": "4e832eee",
   "metadata": {},
   "source": [
    "#### **3.2.2. ID3 Implementation** ####"
   ]
  },
  {
   "cell_type": "markdown",
   "id": "f0c1f99a",
   "metadata": {},
   "source": [
    "Qualuer cena"
   ]
  },
  {
   "cell_type": "code",
   "execution_count": 8,
   "id": "a71d89d7",
   "metadata": {},
   "outputs": [],
   "source": [
    "## codigo do Id3"
   ]
  },
  {
   "cell_type": "markdown",
   "id": "a74be669",
   "metadata": {},
   "source": [
    "## **4. Algorithms Implementation** ##"
   ]
  },
  {
   "cell_type": "markdown",
   "id": "23ff0aa2",
   "metadata": {},
   "source": [
    "### **4.1. Libraries** ###\n"
   ]
  },
  {
   "cell_type": "code",
   "execution_count": null,
   "id": "6383cfd0",
   "metadata": {},
   "outputs": [],
   "source": [
    "import game\n",
    "import mcts\n",
    "from pygame import gfxdraw\n",
    "import pygame\n",
    "from os import environ\n",
    "import time\n",
    "environ['PYGAME_HIDE_SUPPORT_PROMPT'] = '1'"
   ]
  },
  {
   "cell_type": "markdown",
   "id": "7f036b5f",
   "metadata": {},
   "source": [
    "### **4.2. Nao sei** ###\n"
   ]
  },
  {
   "cell_type": "code",
   "execution_count": null,
   "id": "64caf74f",
   "metadata": {},
   "outputs": [],
   "source": []
  },
  {
   "cell_type": "markdown",
   "id": "d8804dab",
   "metadata": {},
   "source": [
    "## **5. User Interface Game** ##\n"
   ]
  },
  {
   "cell_type": "markdown",
   "id": "415e622b",
   "metadata": {},
   "source": [
    "### **5.1. Human vs Human** ###\n"
   ]
  },
  {
   "cell_type": "markdown",
   "id": "94de52b3",
   "metadata": {},
   "source": [
    "### **5.2. Human vs MCTS** ###\n"
   ]
  },
  {
   "cell_type": "markdown",
   "id": "4cf64346",
   "metadata": {},
   "source": [
    "### **5.3. Human vs ID3** ###\n"
   ]
  },
  {
   "cell_type": "markdown",
   "id": "cc1fef65",
   "metadata": {},
   "source": [
    "### **5.4. MCTS vs ID3** ###\n"
   ]
  },
  {
   "cell_type": "markdown",
   "id": "ba91a1ca",
   "metadata": {},
   "source": [
    "## **6. Results** ##\n"
   ]
  },
  {
   "cell_type": "markdown",
   "id": "13504dfa",
   "metadata": {},
   "source": [
    "## **7. Conclusion** ##\n"
   ]
  }
 ],
 "metadata": {
  "kernelspec": {
   "display_name": "base",
   "language": "python",
   "name": "python3"
  },
  "language_info": {
   "codemirror_mode": {
    "name": "ipython",
    "version": 3
   },
   "file_extension": ".py",
   "mimetype": "text/x-python",
   "name": "python",
   "nbconvert_exporter": "python",
   "pygments_lexer": "ipython3",
   "version": "3.11.5"
  }
 },
 "nbformat": 4,
 "nbformat_minor": 5
}
