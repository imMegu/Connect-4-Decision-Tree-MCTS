{
 "cells": [
  {
   "cell_type": "markdown",
   "id": "0ab68d30",
   "metadata": {},
   "source": [
    "# **AI Assignment: Connect 4 with MCTS and ID3**"
   ]
  },
  {
   "cell_type": "markdown",
   "id": "64607dab",
   "metadata": {},
   "source": [
    "### Assignment Done by:\n",
    "- David Ventura Mendes de Sá (UP202303580)\n",
    "- Samuel José Sousa Ventura da Silva (UP202305647)"
   ]
  },
  {
   "cell_type": "markdown",
   "id": "0579ad64",
   "metadata": {},
   "source": [
    "## 0. Contents\n",
    "1. Introduction\n",
    "\n",
    "2. Connect Four  \n",
    "    **2.1.** Libraries  \n",
    "    **2.2.** Game Implementation  \n",
    "    **2.3.** Bitboard vs Matrix  \n",
    "\n",
    "3. Algorithms    \n",
    "    **3.1.** Monte Carlo Tree Search (MCTS)   \n",
    "    **3.2.** Decision Trees (ID3)     \n",
    "        **3.2.1.** Dataset Generation  \n",
    "\n",
    "      \n",
    "\n",
    "4. Algorithms Implementation  \n",
    "    **4.1.** Libraries   \n",
    "\n",
    "\n",
    "4. UI Game\n",
    "\n",
    "6. Results\n",
    "7. Conclusion\n",
    "\n",
    "\n",
    "   "
   ]
  },
  {
   "cell_type": "markdown",
   "id": "74022748",
   "metadata": {},
   "source": [
    "## **1. Introduction** ##"
   ]
  },
  {
   "cell_type": "code",
   "execution_count": null,
   "id": "0e68ec83",
   "metadata": {},
   "outputs": [],
   "source": [
    "from math import sqrt, log\n",
    "import random\n",
    "\n",
    "import game\n",
    "import mcts\n",
    "from pygame import gfxdraw\n",
    "import pygame\n",
    "from os import environ\n",
    "import time"
   ]
  },
  {
   "cell_type": "markdown",
   "id": "2a155e1f",
   "metadata": {},
   "source": [
    "## **2. Connect Four** ##"
   ]
  },
  {
   "cell_type": "markdown",
   "id": "210ec4c7",
   "metadata": {},
   "source": [
    "### **2.1. Libraries** ###"
   ]
  },
  {
   "cell_type": "code",
   "execution_count": null,
   "id": "0ee2d404",
   "metadata": {},
   "outputs": [],
   "source": [
    "from math import sqrt, log\n",
    "import random"
   ]
  },
  {
   "cell_type": "markdown",
   "id": "3df6f5a4",
   "metadata": {},
   "source": [
    "Escrever alguma coisa sobre as libraries"
   ]
  },
  {
   "cell_type": "markdown",
   "id": "bf998d00",
   "metadata": {},
   "source": [
    "### **2.2. Game Implementation** ###"
   ]
  },
  {
   "cell_type": "markdown",
   "id": "ed0adc4c",
   "metadata": {},
   "source": [
    "Falar da class Bitboard"
   ]
  },
  {
   "cell_type": "code",
   "execution_count": null,
   "id": "f8f4e915",
   "metadata": {},
   "outputs": [],
   "source": [
    "class Bitboard:\n",
    "    def __init__(self):\n",
    "        self.player1 = 0\n",
    "        self.player2 = 0\n",
    "        self.height = [0] * 7\n",
    "        self.current_player = 1\n",
    "\n",
    "    # 05 12 19 26 33 40 47\n",
    "    # 04 11 18 25 32 39 46\n",
    "    # 03 10 17 24 31 38 45\n",
    "    # 02 09 16 23 30 37 44\n",
    "    # 01 08 15 22 29 36 43 \n",
    "    # 00 07 14 21 28 35 42\n",
    "\n",
    "    def make_move(self, col):\n",
    "        \n",
    "        if col == -1: return\n",
    "\n",
    "        if self.height[col] >= 6:\n",
    "            return False\n",
    "\n",
    "        # Get position\n",
    "        row = self.height[col]\n",
    "        bit_position = col * 7 + row\n",
    "\n",
    "        # Update bitboard\n",
    "        if self.current_player == 1:\n",
    "            self.player1 |= (1 << bit_position)\n",
    "        else:\n",
    "            self.player2 |= (1 << bit_position)\n",
    "\n",
    "        # Update heightmap\n",
    "        self.height[col] += 1\n",
    "\n",
    "        # Switch to other player1\n",
    "        self.current_player = 3 - self.current_player\n",
    "        return True\n",
    "\n",
    "    def check_player_win(self, player):\n",
    "        # Diagonal \\\n",
    "        if player == 1:\n",
    "            board = self.player1\n",
    "        else:\n",
    "            board = self.player2\n",
    "\n",
    "        y = board & (board >> 6)\n",
    "        if (y & (y >> 2 * 6)):\n",
    "            return True\n",
    "        \n",
    "        # Horizontal\n",
    "        y = board & (board >> 7)\n",
    "        if (y & (y >> 2 * 7)):\n",
    "            return True\n",
    "\n",
    "        # Diagonal /\n",
    "        y = board & (board >> 8)\n",
    "        if (y & (y >> 2 * 8)):\n",
    "            return True\n",
    "\n",
    "        # Vertical\n",
    "        y = board & (board >> 1)\n",
    "        if (y & (y >> 2)):      \n",
    "            return True\n",
    "        return False\n",
    "\n",
    "    def get_legal_moves(self):\n",
    "        return [col for col in range(7) if self.height[col] < 6]\n",
    "    \n",
    "    def is_over(self):\n",
    "        return self.check_player_win(1) or self.check_player_win(2) or all(h == 6 for h in self.height)\n",
    "\n",
    "    def copy(self): # returns deep copy of self\n",
    "        new_bitboard = Bitboard()\n",
    "        new_bitboard.player1 = self.player1\n",
    "        new_bitboard.player2 = self.player2\n",
    "        new_bitboard.height = self.height.copy()\n",
    "        new_bitboard.current_player = self.current_player\n",
    "        return new_bitboard\n",
    "\n",
    "    def matrix(self):\n",
    "\n",
    "        matrix = [[0] * 7 for _ in range(6)]\n",
    "\n",
    "        for bit_position in range(48):\n",
    "            row = bit_position // 7  \n",
    "            col = bit_position % 7\n",
    "\n",
    "            # Check if the bit is set in player1's bitboard\n",
    "            if self.player1 & (1 << bit_position):\n",
    "                matrix[col][row] = 1\n",
    "            # Check if the bit is set in player2's bitboard\n",
    "            elif self.player2 & (1 << bit_position):\n",
    "                matrix[col][row] = 2\n",
    "\n",
    "        return matrix\n",
    "\n",
    "    def __str__(self):\n",
    "        # Print the matrix in a readable format\n",
    "        matrix = self.matrix()\n",
    "        resul = \"\"\n",
    "        for row in matrix:\n",
    "            for cell in row:\n",
    "                if cell == 0:\n",
    "                    resul += \"- \"\n",
    "                elif cell == 1:\n",
    "                    resul += \"X \"\n",
    "                elif cell == 2:\n",
    "                    resul += \"O \"\n",
    "            resul += \"\\n\"\n",
    "        return resul\n"
   ]
  },
  {
   "cell_type": "markdown",
   "id": "7f6347bb",
   "metadata": {},
   "source": [
    "### **2.3 Bitboard vs Matrix** ###"
   ]
  },
  {
   "cell_type": "code",
   "execution_count": null,
   "id": "4f478799",
   "metadata": {},
   "outputs": [],
   "source": [
    "##exemplo de codigo que faça o connect4 com matriz ou array nem sei bem"
   ]
  },
  {
   "cell_type": "markdown",
   "id": "895b5ef0",
   "metadata": {},
   "source": [
    "## **3. Algorithms Implementation** ##"
   ]
  },
  {
   "cell_type": "markdown",
   "id": "18f2d5fc",
   "metadata": {},
   "source": [
    "### **3.1 Monte Carlo Tree Search (MCTS)** ###"
   ]
  },
  {
   "cell_type": "markdown",
   "id": "460589bf",
   "metadata": {},
   "source": [
    "falar um bocado de monte carlo"
   ]
  },
  {
   "cell_type": "markdown",
   "id": "9125f148",
   "metadata": {},
   "source": [
    "#### **3.1.1 Class Node** ####"
   ]
  },
  {
   "cell_type": "code",
   "execution_count": null,
   "id": "23a6c5f6",
   "metadata": {},
   "outputs": [],
   "source": [
    "class Node:\n",
    "    __slots__ = ['parent', 'move', 'children', 'wins', 'visits']\n",
    "        \n",
    "    def __init__(self, parent, move):\n",
    "        self.parent = parent  # Node\n",
    "        self.move = move  # move that led to this state\n",
    "        self.children = {}  # Nodes\n",
    "        self.wins = 0\n",
    "        self.visits = 0\n",
    "\n",
    "    def ucb_score(self, exploration_weight=5):\n",
    "        if self.visits == 0:\n",
    "            return float('inf')\n",
    "\n",
    "        return (self.wins / self.visits) + exploration_weight * sqrt(log(self.parent.visits) / self.visits)\n",
    "\n",
    "    def expand(self, bitboard):\n",
    "        children = {Node(self, move) for move in bitboard.get_legal_moves()}\n",
    "        self.children = children\n",
    "        return random.choice(list(children))\n"
   ]
  },
  {
   "cell_type": "markdown",
   "id": "2a134156",
   "metadata": {},
   "source": [
    "#### **3.1.2 Class MCTS** ####"
   ]
  },
  {
   "cell_type": "code",
   "execution_count": null,
   "id": "88680c0c",
   "metadata": {},
   "outputs": [],
   "source": [
    "class MCTS:\n",
    "\n",
    "    def __init__(self, iterations):\n",
    "        self.iterations = iterations\n",
    "\n",
    "    def select(self, root, state):\n",
    "        node = root\n",
    "        while node.children: \n",
    "            node = max(node.children, key=lambda c: c.ucb_score())\n",
    "            state.make_move(node.move)\n",
    "        return node, state\n",
    "\n",
    "\n",
    "    def simulate(self, state):\n",
    "        moves = state.get_legal_moves()\n",
    "        while moves:\n",
    "            move = random.choice(moves)\n",
    "            state.make_move(move)\n",
    "            if state.is_over():\n",
    "                break\n",
    "            moves = state.get_legal_moves()\n",
    "        if state.check_player_win(1): return 1\n",
    "        if state.check_player_win(2): return 2\n",
    "        return 0\n",
    "        \n",
    "\n",
    "    def backpropagate(self, winner, node, state):\n",
    "\n",
    "        reward = 0 if state.current_player == winner else 1\n",
    "\n",
    "        while node is not None:\n",
    "            node.visits += 1\n",
    "            if winner == 0:\n",
    "                reward = 0\n",
    "            else:\n",
    "                node.wins += reward\n",
    "                reward = 1 - reward\n",
    "            node = node.parent\n",
    "\n",
    "\n",
    "    def search(self, bitboard):\n",
    "        root = Node(None, None)\n",
    "        root.expand(bitboard);\n",
    "\n",
    "        for _ in range(self.iterations):\n",
    "\n",
    "            state = bitboard.copy()\n",
    "\n",
    "            leaf, state = self.select(root, state)\n",
    "            \n",
    "            # only simulate if its not terminal state\n",
    "            if not state.is_over():\n",
    "                leaf = leaf.expand(state)\n",
    "                state.make_move(leaf.move)\n",
    "            \n",
    "            winner = self.simulate(state.copy())\n",
    "            \n",
    "            self.backpropagate(winner, leaf, state)\n",
    "\n",
    "        # stats for the display\n",
    "        arr = [0] * 14\n",
    "        for child in root.children:\n",
    "            arr[child.move] = child.visits\n",
    "            arr[7+child.move] = child.wins\n",
    "    \n",
    "        # return the child with MOST VISITS, we don't use winrate here\n",
    "        return max(root.children, key=lambda c: c.visits).move, arr\n"
   ]
  },
  {
   "cell_type": "markdown",
   "id": "ea41db59",
   "metadata": {},
   "source": [
    "### **3.2 Decision Trees (ID3)** ###"
   ]
  },
  {
   "cell_type": "markdown",
   "id": "2b9299ab",
   "metadata": {},
   "source": [
    "#### **3.2.1. Dataset Generation** ####"
   ]
  },
  {
   "cell_type": "markdown",
   "id": "657ee5ac",
   "metadata": {},
   "source": [
    "Falar um bocado do porque de termos gerado desta maneira"
   ]
  },
  {
   "cell_type": "code",
   "execution_count": null,
   "id": "a2f55c0a",
   "metadata": {},
   "outputs": [],
   "source": [
    "###codigo do dataset"
   ]
  },
  {
   "cell_type": "markdown",
   "id": "4e832eee",
   "metadata": {},
   "source": [
    "#### **3.2.2. ID3 Implementation** ####"
   ]
  },
  {
   "cell_type": "markdown",
   "id": "f0c1f99a",
   "metadata": {},
   "source": [
    "Qualuer cena"
   ]
  },
  {
   "cell_type": "code",
   "execution_count": null,
   "id": "a71d89d7",
   "metadata": {},
   "outputs": [],
   "source": [
    "## codigo do Id3"
   ]
  },
  {
   "cell_type": "markdown",
   "id": "a74be669",
   "metadata": {},
   "source": [
    "## **4. Algorithms Implementation** ##"
   ]
  },
  {
   "cell_type": "markdown",
   "id": "23ff0aa2",
   "metadata": {},
   "source": [
    "### **4.1. Libraries** ###\n"
   ]
  },
  {
   "cell_type": "code",
   "execution_count": null,
   "id": "6383cfd0",
   "metadata": {},
   "outputs": [],
   "source": [
    "import game\n",
    "import mcts\n",
    "from pygame import gfxdraw\n",
    "import pygame\n",
    "from os import environ\n",
    "import time\n",
    "environ['PYGAME_HIDE_SUPPORT_PROMPT'] = '1'\n"
   ]
  },
  {
   "cell_type": "markdown",
   "id": "7f036b5f",
   "metadata": {},
   "source": [
    "### **4.2. Nao sei** ###\n"
   ]
  },
  {
   "cell_type": "code",
   "execution_count": null,
   "id": "64caf74f",
   "metadata": {},
   "outputs": [],
   "source": []
  },
  {
   "cell_type": "markdown",
   "id": "d8804dab",
   "metadata": {},
   "source": [
    "## **5. User Interface Game** ##\n"
   ]
  },
  {
   "cell_type": "markdown",
   "id": "415e622b",
   "metadata": {},
   "source": [
    "### **5.1. Human vs Human** ###\n"
   ]
  },
  {
   "cell_type": "markdown",
   "id": "94de52b3",
   "metadata": {},
   "source": [
    "### **5.2. Human vs MCTS** ###\n"
   ]
  },
  {
   "cell_type": "markdown",
   "id": "4cf64346",
   "metadata": {},
   "source": [
    "### **5.3. Human vs ID3** ###\n"
   ]
  },
  {
   "cell_type": "markdown",
   "id": "cc1fef65",
   "metadata": {},
   "source": [
    "### **5.4. MCTS vs ID3** ###\n"
   ]
  },
  {
   "cell_type": "markdown",
   "id": "ba91a1ca",
   "metadata": {},
   "source": [
    "## **6. Results** ##\n"
   ]
  },
  {
   "cell_type": "markdown",
   "id": "13504dfa",
   "metadata": {},
   "source": [
    "## **7. Conclusion** ##\n"
   ]
  }
 ],
 "metadata": {
  "language_info": {
   "name": "python"
  }
 },
 "nbformat": 4,
 "nbformat_minor": 5
}
